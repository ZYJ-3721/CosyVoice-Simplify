{
 "cells": [
  {
   "cell_type": "code",
   "execution_count": null,
   "id": "2f12d169",
   "metadata": {},
   "outputs": [],
   "source": [
    "import torchaudio\n",
    "from cosyvoice.cli.cosyvoice import CosyVoice2\n",
    "from cosyvoice.utils.file_utils import load_wav\n",
    "# cosyvoice = CosyVoice2('iic/CosyVoice2-0.5B', load_jit=True, load_trt=True, load_vllm=True, fp16=True)\n",
    "cosyvoice = CosyVoice2('iic/CosyVoice2-0.5B', load_jit=True, load_trt=True, load_vllm=False, fp16=True)"
   ]
  },
  {
   "cell_type": "code",
   "execution_count": null,
   "id": "34818b51",
   "metadata": {},
   "outputs": [],
   "source": [
    "prompt_speech_16k = load_wav(\"懒羊羊.mp3\")\n",
    "def g():\n",
    "    yield \"大雨落幽燕，白浪滔天，秦皇岛外打鱼船。一片汪洋都不见，知向谁边？往事越千年，魏武挥鞭，东临碣石有遗篇。萧瑟秋风今又是，换了人间。\"\n",
    "result = cosyvoice.inference_cross_lingual(\n",
    "    tts_text=g(), prompt_speech_16k=prompt_speech_16k)\n",
    "torchaudio.save(\"output.mp3\", next(result)[\"tts_speech\"], cosyvoice.sample_rate)"
   ]
  },
  {
   "cell_type": "code",
   "execution_count": null,
   "id": "50d75349",
   "metadata": {},
   "outputs": [],
   "source": [
    "prompt_speech_16k = load_wav(\"懒羊羊.mp3\")\n",
    "result = cosyvoice.inference_cross_lingual(\n",
    "    tts_text=\"\"\"\n",
    "    大雨落幽燕，白浪滔天，秦皇岛外打鱼船。一片汪洋都不见，知向谁边？\n",
    "    往事越千年，魏武挥鞭，东临碣石有遗篇。萧瑟秋风今又是，换了人间。\n",
    "    \"\"\", prompt_speech_16k=prompt_speech_16k)\n",
    "torchaudio.save(\"output.mp3\", next(result)[\"tts_speech\"], cosyvoice.sample_rate)"
   ]
  },
  {
   "cell_type": "code",
   "execution_count": null,
   "id": "21d44ae1",
   "metadata": {},
   "outputs": [],
   "source": [
    "cosyvoice.list_available_spks()"
   ]
  },
  {
   "cell_type": "code",
   "execution_count": null,
   "id": "bbd5a17a",
   "metadata": {},
   "outputs": [],
   "source": [
    "prompt_speech_16k = load_wav(\"懒羊羊.mp3\")\n",
    "cosyvoice.switch_spk2info(\"spks.pt\")\n",
    "cosyvoice.add_zero_shot_spk(\"懒羊羊\", prompt_speech_16k)\n",
    "cosyvoice.save_spk2info(\"spks.pt\")"
   ]
  },
  {
   "cell_type": "code",
   "execution_count": null,
   "id": "4329aeed",
   "metadata": {},
   "outputs": [],
   "source": [
    "cosyvoice.list_available_spks()"
   ]
  },
  {
   "cell_type": "code",
   "execution_count": null,
   "id": "b8a8d245",
   "metadata": {},
   "outputs": [],
   "source": [
    "cosyvoice.switch_spk2info(\"spks.pt\")\n",
    "result = cosyvoice.inference_cross_lingual(\n",
    "    tts_text=\"\"\"\n",
    "    大雨落幽燕，白浪滔天，秦皇岛外打鱼船。一片汪洋都不见，知向谁边？\n",
    "    往事越千年，魏武挥鞭，东临碣石有遗篇。萧瑟秋风今又是，换了人间。\n",
    "    \"\"\", zero_shot_spk_id=\"懒羊羊\")\n",
    "torchaudio.save(\"output2.mp3\", next(result)[\"tts_speech\"], cosyvoice.sample_rate)"
   ]
  },
  {
   "cell_type": "code",
   "execution_count": null,
   "id": "b9daaa0a",
   "metadata": {},
   "outputs": [],
   "source": [
    "cosyvoice.switch_spk2info(\"spks.pt\")\n",
    "result = cosyvoice.inference_instruct2(\n",
    "    tts_text=\"\"\"\n",
    "    大雨落幽燕，白浪滔天，秦皇岛外打鱼船。一片汪洋都不见，知向谁边？\n",
    "    往事越千年，魏武挥鞭，东临碣石有遗篇。萧瑟秋风今又是，换了人间。\n",
    "    \"\"\", zero_shot_spk_id=\"懒羊羊\", instruct_text=\"长沙话\")\n",
    "torchaudio.save(\"output3.mp3\", next(result)[\"tts_speech\"], cosyvoice.sample_rate)"
   ]
  },
  {
   "cell_type": "code",
   "execution_count": null,
   "id": "021c36bf",
   "metadata": {},
   "outputs": [],
   "source": [
    "cosyvoice.switch_spk2info(\"spks.pt\")\n",
    "cosyvoice.list_available_spks()"
   ]
  }
 ],
 "metadata": {
  "kernelspec": {
   "display_name": "cosyvoice2",
   "language": "python",
   "name": "python3"
  },
  "language_info": {
   "codemirror_mode": {
    "name": "ipython",
    "version": 3
   },
   "file_extension": ".py",
   "mimetype": "text/x-python",
   "name": "python",
   "nbconvert_exporter": "python",
   "pygments_lexer": "ipython3",
   "version": "3.11.13"
  }
 },
 "nbformat": 4,
 "nbformat_minor": 5
}
